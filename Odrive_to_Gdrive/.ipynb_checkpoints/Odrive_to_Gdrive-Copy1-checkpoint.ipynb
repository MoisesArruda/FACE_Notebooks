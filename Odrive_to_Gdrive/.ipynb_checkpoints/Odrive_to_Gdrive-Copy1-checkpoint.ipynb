{
 "cells": [
  {
   "cell_type": "code",
   "execution_count": 13,
   "id": "e82f2e35",
   "metadata": {},
   "outputs": [],
   "source": [
    "## Enviar arquivos do One Drive para o GCP"
   ]
  },
  {
   "cell_type": "code",
   "execution_count": 14,
   "id": "2d9f0adb",
   "metadata": {},
   "outputs": [],
   "source": [
    "import pandas as pd\n",
    "import os\n",
    "import glob\n",
    "import shutil"
   ]
  },
  {
   "cell_type": "code",
   "execution_count": 18,
   "id": "6433692f",
   "metadata": {},
   "outputs": [],
   "source": [
    "# Caminho do One Drive\n",
    "\n",
    "pasta_One = r''\n",
    "\n",
    "pasta_Gdrive = r''"
   ]
  },
  {
   "cell_type": "code",
   "execution_count": 19,
   "id": "41cb7069",
   "metadata": {},
   "outputs": [
    {
     "name": "stdout",
     "output_type": "stream",
     "text": [
      "['C:\\\\Users\\\\BlueShift\\\\OneDrive\\\\AmazonFACE\\\\AmazonFACE_CR6_T1_meteoMedia30_2023_06_05_1500.dat', 'C:\\\\Users\\\\BlueShift\\\\OneDrive\\\\AmazonFACE\\\\AmazonFACE_CR6_T1_meteoMedia30_2023_06_06_0000.dat', 'C:\\\\Users\\\\BlueShift\\\\OneDrive\\\\AmazonFACE\\\\AmazonFACE_CR6_T1_meteoMedia30_2023_06_07_0000.dat', 'C:\\\\Users\\\\BlueShift\\\\OneDrive\\\\AmazonFACE\\\\AmazonFACE_CR6_T1_meteoMedia30_2023_06_08_0000.dat', 'C:\\\\Users\\\\BlueShift\\\\OneDrive\\\\AmazonFACE\\\\AmazonFACE_CR6_T1_meteoMedia30_2023_06_09_0000.dat', 'C:\\\\Users\\\\BlueShift\\\\OneDrive\\\\AmazonFACE\\\\AmazonFACE_CR6_T1_meteoMedia30_2023_06_10_0000.dat', 'C:\\\\Users\\\\BlueShift\\\\OneDrive\\\\AmazonFACE\\\\AmazonFACE_CR6_T1_meteoMedia30_2023_06_11_0000.dat', 'C:\\\\Users\\\\BlueShift\\\\OneDrive\\\\AmazonFACE\\\\AmazonFACE_CR6_T1_meteoMedia30_2023_06_12_0000.dat', 'C:\\\\Users\\\\BlueShift\\\\OneDrive\\\\AmazonFACE\\\\AmazonFACE_CR6_T1_meteoMedia30_2023_06_13_0000.dat', 'C:\\\\Users\\\\BlueShift\\\\OneDrive\\\\AmazonFACE\\\\AmazonFACE_CR6_T1_meteoMedia30_2023_06_13_0800.dat', 'C:\\\\Users\\\\BlueShift\\\\OneDrive\\\\AmazonFACE\\\\AmazonFACE_CR6_T1_meteoMedia30_2023_06_14_0030.dat', 'C:\\\\Users\\\\BlueShift\\\\OneDrive\\\\AmazonFACE\\\\AmazonFACE_CR6_T1_meteoMedia30_2023_06_15_0000.dat', 'C:\\\\Users\\\\BlueShift\\\\OneDrive\\\\AmazonFACE\\\\AmazonFACE_CR6_T1_meteoMedia30_2023_06_16_0000.dat', 'C:\\\\Users\\\\BlueShift\\\\OneDrive\\\\AmazonFACE\\\\AmazonFACE_CR6_T1_meteoMedia30_2023_06_17_0000.dat', 'C:\\\\Users\\\\BlueShift\\\\OneDrive\\\\AmazonFACE\\\\AmazonFACE_CR6_T1_meteoMedia30_2023_06_18_0030.dat', 'C:\\\\Users\\\\BlueShift\\\\OneDrive\\\\AmazonFACE\\\\AmazonFACE_CR6_T1_meteoMedia30_2023_06_19_0000.dat', 'C:\\\\Users\\\\BlueShift\\\\OneDrive\\\\AmazonFACE\\\\AmazonFACE_CR6_T1_meteoMedia30_2023_06_20_0000.dat', 'C:\\\\Users\\\\BlueShift\\\\OneDrive\\\\AmazonFACE\\\\AmazonFACE_CR6_T1_meteoMedia30_2023_06_21_0000.dat', 'C:\\\\Users\\\\BlueShift\\\\OneDrive\\\\AmazonFACE\\\\AmazonFACE_CR6_T1_meteoMedia30_2023_06_22_0000.dat', 'C:\\\\Users\\\\BlueShift\\\\OneDrive\\\\AmazonFACE\\\\AmazonFACE_CR6_T1_meteoMedia30_2023_06_23_0000.dat', 'C:\\\\Users\\\\BlueShift\\\\OneDrive\\\\AmazonFACE\\\\AmazonFACE_CR6_T1_meteoMedia30_2023_06_24_0000.dat', 'C:\\\\Users\\\\BlueShift\\\\OneDrive\\\\AmazonFACE\\\\AmazonFACE_CR6_T1_meteoMedia30_2023_06_25_0000.dat', 'C:\\\\Users\\\\BlueShift\\\\OneDrive\\\\AmazonFACE\\\\AmazonFACE_CR6_T1_meteoMedia30_2023_06_26_0000.dat', 'C:\\\\Users\\\\BlueShift\\\\OneDrive\\\\AmazonFACE\\\\AmazonFACE_CR6_T1_meteoMedia30_2023_06_27_0030.dat', 'C:\\\\Users\\\\BlueShift\\\\OneDrive\\\\AmazonFACE\\\\AmazonFACE_CR6_T1_meteoMedia30_2023_06_28_0000.dat', 'C:\\\\Users\\\\BlueShift\\\\OneDrive\\\\AmazonFACE\\\\AmazonFACE_CR6_T1_meteoMedia30_2023_06_29_0000.dat', 'C:\\\\Users\\\\BlueShift\\\\OneDrive\\\\AmazonFACE\\\\AmazonFACE_CR6_T1_meteoMedia30_2023_06_30_0000.dat', 'C:\\\\Users\\\\BlueShift\\\\OneDrive\\\\AmazonFACE\\\\AmazonFACE_CR6_T1_meteoMedia30_2023_07_01_0000.dat', 'C:\\\\Users\\\\BlueShift\\\\OneDrive\\\\AmazonFACE\\\\AmazonFACE_CR6_T1_meteoMedia30_2023_07_02_0000.dat', 'C:\\\\Users\\\\BlueShift\\\\OneDrive\\\\AmazonFACE\\\\AmazonFACE_CR6_T1_meteoMedia30_2023_07_03_0000.dat', 'C:\\\\Users\\\\BlueShift\\\\OneDrive\\\\AmazonFACE\\\\AmazonFACE_CR6_T1_meteoMedia30_2023_07_04_0000.dat', 'C:\\\\Users\\\\BlueShift\\\\OneDrive\\\\AmazonFACE\\\\AmazonFACE_CR6_T1_meteoMedia30_2023_07_05_0000.dat', 'C:\\\\Users\\\\BlueShift\\\\OneDrive\\\\AmazonFACE\\\\AmazonFACE_CR6_T1_meteoMedia30_2023_07_06_0000.dat', 'C:\\\\Users\\\\BlueShift\\\\OneDrive\\\\AmazonFACE\\\\AmazonFACE_CR6_T1_meteoMedia30_2023_07_07_0000.dat', 'C:\\\\Users\\\\BlueShift\\\\OneDrive\\\\AmazonFACE\\\\AmazonFACE_CR6_T1_meteoMedia30_2023_07_08_0000.dat', 'C:\\\\Users\\\\BlueShift\\\\OneDrive\\\\AmazonFACE\\\\AmazonFACE_CR6_T1_meteoMedia30_2023_07_09_0000.dat', 'C:\\\\Users\\\\BlueShift\\\\OneDrive\\\\AmazonFACE\\\\AmazonFACE_CR6_T1_meteoMedia30_2023_07_10_0030.dat', 'C:\\\\Users\\\\BlueShift\\\\OneDrive\\\\AmazonFACE\\\\AmazonFACE_CR6_T1_meteoMedia30_2023_07_11_0000.dat', 'C:\\\\Users\\\\BlueShift\\\\OneDrive\\\\AmazonFACE\\\\AmazonFACE_CR6_T1_meteoMedia30_2023_07_12_0000.dat', 'C:\\\\Users\\\\BlueShift\\\\OneDrive\\\\AmazonFACE\\\\AmazonFACE_CR6_T1_meteoMedia30_2023_07_20_1100.dat', 'C:\\\\Users\\\\BlueShift\\\\OneDrive\\\\AmazonFACE\\\\AmazonFACE_CR6_T1_meteoMedia30_2023_07_21_0000.dat', 'C:\\\\Users\\\\BlueShift\\\\OneDrive\\\\AmazonFACE\\\\AmazonFACE_CR6_T1_meteoMedia30_2023_07_22_0000.dat', 'C:\\\\Users\\\\BlueShift\\\\OneDrive\\\\AmazonFACE\\\\AmazonFACE_CR6_T1_meteoMedia30_2023_07_23_0030.dat', 'C:\\\\Users\\\\BlueShift\\\\OneDrive\\\\AmazonFACE\\\\AmazonFACE_CR6_T1_meteoMedia30_2023_07_24_0000.dat', 'C:\\\\Users\\\\BlueShift\\\\OneDrive\\\\AmazonFACE\\\\AmazonFACE_CR6_T1_meteoMedia30_2023_07_25_0000.dat', 'C:\\\\Users\\\\BlueShift\\\\OneDrive\\\\AmazonFACE\\\\AmazonFACE_CR6_T1_meteoMedia30_2023_07_26_0000.dat', 'C:\\\\Users\\\\BlueShift\\\\OneDrive\\\\AmazonFACE\\\\AmazonFACE_CR6_T1_meteoMedia30_2023_07_27_0000.dat', 'C:\\\\Users\\\\BlueShift\\\\OneDrive\\\\AmazonFACE\\\\AmazonFACE_CR6_T1_meteoMedia30_2023_07_28_0000.dat', 'C:\\\\Users\\\\BlueShift\\\\OneDrive\\\\AmazonFACE\\\\AmazonFACE_CR6_T1_meteoMedia30_2023_07_29_0000.dat', 'C:\\\\Users\\\\BlueShift\\\\OneDrive\\\\AmazonFACE\\\\AmazonFACE_CR6_T1_meteoMedia30_2023_07_30_0000.dat', 'C:\\\\Users\\\\BlueShift\\\\OneDrive\\\\AmazonFACE\\\\AmazonFACE_CR6_T1_meteoMedia30_2023_07_31_0000.dat', 'C:\\\\Users\\\\BlueShift\\\\OneDrive\\\\AmazonFACE\\\\AmazonFACE_CR6_T1_meteoMedia30_2023_07_31_1030.dat', 'C:\\\\Users\\\\BlueShift\\\\OneDrive\\\\AmazonFACE\\\\AmazonFACE_CR6_T1_meteoMedia30_2023_08_01_0030.dat', 'C:\\\\Users\\\\BlueShift\\\\OneDrive\\\\AmazonFACE\\\\AmazonFACE_CR6_T1_meteoMedia30_2023_08_02_0000.dat', 'C:\\\\Users\\\\BlueShift\\\\OneDrive\\\\AmazonFACE\\\\AmazonFACE_CR6_T1_meteoMedia30_2023_08_03_0000.dat', 'C:\\\\Users\\\\BlueShift\\\\OneDrive\\\\AmazonFACE\\\\AmazonFACE_CR6_T1_meteoMedia30_2023_08_04_0000.dat', 'C:\\\\Users\\\\BlueShift\\\\OneDrive\\\\AmazonFACE\\\\AmazonFACE_CR6_T1_meteoMedia30_2023_08_05_0030.dat', 'C:\\\\Users\\\\BlueShift\\\\OneDrive\\\\AmazonFACE\\\\AmazonFACE_CR6_T1_meteoMedia30_2023_08_06_0000.dat', 'C:\\\\Users\\\\BlueShift\\\\OneDrive\\\\AmazonFACE\\\\AmazonFACE_CR6_T1_meteoMedia30_2023_08_07_0000.dat', 'C:\\\\Users\\\\BlueShift\\\\OneDrive\\\\AmazonFACE\\\\AmazonFACE_CR6_T1_meteoMedia30_2023_08_08_0000.dat', 'C:\\\\Users\\\\BlueShift\\\\OneDrive\\\\AmazonFACE\\\\AmazonFACE_CR6_T1_meteoMedia30_2023_08_09_0100.dat', 'C:\\\\Users\\\\BlueShift\\\\OneDrive\\\\AmazonFACE\\\\AmazonFACE_CR6_T1_meteoMedia30_2023_08_10_0000.dat', 'C:\\\\Users\\\\BlueShift\\\\OneDrive\\\\AmazonFACE\\\\AmazonFACE_CR6_T1_meteoMedia30_2023_08_11_0000.dat', 'C:\\\\Users\\\\BlueShift\\\\OneDrive\\\\AmazonFACE\\\\AmazonFACE_CR6_T1_meteoMedia30_2023_08_12_0000.dat', 'C:\\\\Users\\\\BlueShift\\\\OneDrive\\\\AmazonFACE\\\\AmazonFACE_CR6_T1_meteoMedia30_2023_08_13_0000.dat', 'C:\\\\Users\\\\BlueShift\\\\OneDrive\\\\AmazonFACE\\\\AmazonFACE_CR6_T1_meteoMedia30_2023_08_14_0030.dat', 'C:\\\\Users\\\\BlueShift\\\\OneDrive\\\\AmazonFACE\\\\AmazonFACE_CR6_T1_meteoMedia30_2023_08_15_1500.dat', 'C:\\\\Users\\\\BlueShift\\\\OneDrive\\\\AmazonFACE\\\\AmazonFACE_CR6_T1_meteoMedia30_2023_08_16_0000.dat', 'C:\\\\Users\\\\BlueShift\\\\OneDrive\\\\AmazonFACE\\\\AmazonFACE_CR6_T1_meteoMedia30_2023_08_18_1400.dat', 'C:\\\\Users\\\\BlueShift\\\\OneDrive\\\\AmazonFACE\\\\AmazonFACE_CR6_T1_meteoMedia30_2023_08_19_0000.dat', 'C:\\\\Users\\\\BlueShift\\\\OneDrive\\\\AmazonFACE\\\\AmazonFACE_CR6_T1_meteoMedia30_2023_08_20_0030.dat', 'C:\\\\Users\\\\BlueShift\\\\OneDrive\\\\AmazonFACE\\\\AmazonFACE_CR6_T1_meteoMedia30_2023_08_21_0000.dat', 'C:\\\\Users\\\\BlueShift\\\\OneDrive\\\\AmazonFACE\\\\AmazonFACE_CR6_T1_meteoMedia30_2023_08_22_0900.dat', 'C:\\\\Users\\\\BlueShift\\\\OneDrive\\\\AmazonFACE\\\\AmazonFACE_CR6_T1_meteoMedia30_2023_08_22_0930.dat', 'C:\\\\Users\\\\BlueShift\\\\OneDrive\\\\AmazonFACE\\\\AmazonFACE_CR6_T1_meteoMedia30_2023_08_23_0000.dat', 'C:\\\\Users\\\\BlueShift\\\\OneDrive\\\\AmazonFACE\\\\AmazonFACE_CR6_T1_meteoMedia30_2023_08_24_0000.dat', 'C:\\\\Users\\\\BlueShift\\\\OneDrive\\\\AmazonFACE\\\\AmazonFACE_CR6_T1_meteoMedia30_2023_08_25_0000.dat', 'C:\\\\Users\\\\BlueShift\\\\OneDrive\\\\AmazonFACE\\\\AmazonFACE_CR6_T1_meteoMedia30_2023_08_26_0000.dat', 'C:\\\\Users\\\\BlueShift\\\\OneDrive\\\\AmazonFACE\\\\AmazonFACE_CR6_T1_meteoMedia30_2023_08_27_0030.dat', 'C:\\\\Users\\\\BlueShift\\\\OneDrive\\\\AmazonFACE\\\\AmazonFACE_CR6_T1_meteoMedia30_2023_08_28_0000.dat', 'C:\\\\Users\\\\BlueShift\\\\OneDrive\\\\AmazonFACE\\\\AmazonFACE_CR6_T1_meteoMedia30_2023_08_29_0000.dat', 'C:\\\\Users\\\\BlueShift\\\\OneDrive\\\\AmazonFACE\\\\AmazonFACE_CR6_T1_meteoMedia30_2023_08_30_0000.dat', 'C:\\\\Users\\\\BlueShift\\\\OneDrive\\\\AmazonFACE\\\\AmazonFACE_CR6_T1_meteo_2023_06_05_1439.dat', 'C:\\\\Users\\\\BlueShift\\\\OneDrive\\\\AmazonFACE\\\\AmazonFACE_CR6_T1_meteo_2023_06_05_1454.dat', 'C:\\\\Users\\\\BlueShift\\\\OneDrive\\\\AmazonFACE\\\\AmazonFACE_CR6_T1_meteo_2023_06_05_1455.dat', 'C:\\\\Users\\\\BlueShift\\\\OneDrive\\\\AmazonFACE\\\\AmazonFACE_CR6_T1_meteo_2023_06_06_0000.dat', 'C:\\\\Users\\\\BlueShift\\\\OneDrive\\\\AmazonFACE\\\\AmazonFACE_CR6_T1_meteo_2023_06_07_0000.dat', 'C:\\\\Users\\\\BlueShift\\\\OneDrive\\\\AmazonFACE\\\\AmazonFACE_CR6_T1_meteo_2023_06_08_0000.dat', 'C:\\\\Users\\\\BlueShift\\\\OneDrive\\\\AmazonFACE\\\\AmazonFACE_CR6_T1_meteo_2023_06_09_0000.dat', 'C:\\\\Users\\\\BlueShift\\\\OneDrive\\\\AmazonFACE\\\\AmazonFACE_CR6_T1_meteo_2023_06_10_0000.dat', 'C:\\\\Users\\\\BlueShift\\\\OneDrive\\\\AmazonFACE\\\\AmazonFACE_CR6_T1_meteo_2023_06_11_0000.dat', 'C:\\\\Users\\\\BlueShift\\\\OneDrive\\\\AmazonFACE\\\\AmazonFACE_CR6_T1_meteo_2023_06_12_0000.dat', 'C:\\\\Users\\\\BlueShift\\\\OneDrive\\\\AmazonFACE\\\\AmazonFACE_CR6_T1_meteo_2023_06_13_0000.dat', 'C:\\\\Users\\\\BlueShift\\\\OneDrive\\\\AmazonFACE\\\\AmazonFACE_CR6_T1_meteo_2023_06_13_0744.dat', 'C:\\\\Users\\\\BlueShift\\\\OneDrive\\\\AmazonFACE\\\\AmazonFACE_CR6_T1_meteo_2023_06_14_0001.dat', 'C:\\\\Users\\\\BlueShift\\\\OneDrive\\\\AmazonFACE\\\\AmazonFACE_CR6_T1_meteo_2023_06_15_0000.dat', 'C:\\\\Users\\\\BlueShift\\\\OneDrive\\\\AmazonFACE\\\\AmazonFACE_CR6_T1_meteo_2023_06_16_0000.dat', 'C:\\\\Users\\\\BlueShift\\\\OneDrive\\\\AmazonFACE\\\\AmazonFACE_CR6_T1_meteo_2023_06_17_0000.dat', 'C:\\\\Users\\\\BlueShift\\\\OneDrive\\\\AmazonFACE\\\\AmazonFACE_CR6_T1_meteo_2023_06_18_0021.dat', 'C:\\\\Users\\\\BlueShift\\\\OneDrive\\\\AmazonFACE\\\\AmazonFACE_CR6_T1_meteo_2023_06_19_0000.dat', 'C:\\\\Users\\\\BlueShift\\\\OneDrive\\\\AmazonFACE\\\\AmazonFACE_CR6_T1_meteo_2023_06_20_0000.dat', 'C:\\\\Users\\\\BlueShift\\\\OneDrive\\\\AmazonFACE\\\\AmazonFACE_CR6_T1_meteo_2023_06_21_0000.dat', 'C:\\\\Users\\\\BlueShift\\\\OneDrive\\\\AmazonFACE\\\\AmazonFACE_CR6_T1_meteo_2023_06_22_0000.dat', 'C:\\\\Users\\\\BlueShift\\\\OneDrive\\\\AmazonFACE\\\\AmazonFACE_CR6_T1_meteo_2023_06_23_0000.dat', 'C:\\\\Users\\\\BlueShift\\\\OneDrive\\\\AmazonFACE\\\\AmazonFACE_CR6_T1_meteo_2023_06_24_0000.dat', 'C:\\\\Users\\\\BlueShift\\\\OneDrive\\\\AmazonFACE\\\\AmazonFACE_CR6_T1_meteo_2023_06_25_0000.dat', 'C:\\\\Users\\\\BlueShift\\\\OneDrive\\\\AmazonFACE\\\\AmazonFACE_CR6_T1_meteo_2023_06_26_0000.dat', 'C:\\\\Users\\\\BlueShift\\\\OneDrive\\\\AmazonFACE\\\\AmazonFACE_CR6_T1_meteo_2023_06_27_0001.dat', 'C:\\\\Users\\\\BlueShift\\\\OneDrive\\\\AmazonFACE\\\\AmazonFACE_CR6_T1_meteo_2023_06_28_0000.dat', 'C:\\\\Users\\\\BlueShift\\\\OneDrive\\\\AmazonFACE\\\\AmazonFACE_CR6_T1_meteo_2023_06_29_0000.dat', 'C:\\\\Users\\\\BlueShift\\\\OneDrive\\\\AmazonFACE\\\\AmazonFACE_CR6_T1_meteo_2023_06_30_0000.dat', 'C:\\\\Users\\\\BlueShift\\\\OneDrive\\\\AmazonFACE\\\\AmazonFACE_CR6_T1_meteo_2023_07_01_0000.dat', 'C:\\\\Users\\\\BlueShift\\\\OneDrive\\\\AmazonFACE\\\\AmazonFACE_CR6_T1_meteo_2023_07_02_0000.dat', 'C:\\\\Users\\\\BlueShift\\\\OneDrive\\\\AmazonFACE\\\\AmazonFACE_CR6_T1_meteo_2023_07_03_0000.dat', 'C:\\\\Users\\\\BlueShift\\\\OneDrive\\\\AmazonFACE\\\\AmazonFACE_CR6_T1_meteo_2023_07_04_0000.dat', 'C:\\\\Users\\\\BlueShift\\\\OneDrive\\\\AmazonFACE\\\\AmazonFACE_CR6_T1_meteo_2023_07_05_0000.dat', 'C:\\\\Users\\\\BlueShift\\\\OneDrive\\\\AmazonFACE\\\\AmazonFACE_CR6_T1_meteo_2023_07_06_0000.dat', 'C:\\\\Users\\\\BlueShift\\\\OneDrive\\\\AmazonFACE\\\\AmazonFACE_CR6_T1_meteo_2023_07_07_0000.dat', 'C:\\\\Users\\\\BlueShift\\\\OneDrive\\\\AmazonFACE\\\\AmazonFACE_CR6_T1_meteo_2023_07_08_0000.dat', 'C:\\\\Users\\\\BlueShift\\\\OneDrive\\\\AmazonFACE\\\\AmazonFACE_CR6_T1_meteo_2023_07_09_0000.dat', 'C:\\\\Users\\\\BlueShift\\\\OneDrive\\\\AmazonFACE\\\\AmazonFACE_CR6_T1_meteo_2023_07_10_0001.dat', 'C:\\\\Users\\\\BlueShift\\\\OneDrive\\\\AmazonFACE\\\\AmazonFACE_CR6_T1_meteo_2023_07_11_0000.dat', 'C:\\\\Users\\\\BlueShift\\\\OneDrive\\\\AmazonFACE\\\\AmazonFACE_CR6_T1_meteo_2023_07_12_0000.dat', 'C:\\\\Users\\\\BlueShift\\\\OneDrive\\\\AmazonFACE\\\\AmazonFACE_CR6_T1_meteo_2023_07_20_1044.dat', 'C:\\\\Users\\\\BlueShift\\\\OneDrive\\\\AmazonFACE\\\\AmazonFACE_CR6_T1_meteo_2023_07_21_0000.dat', 'C:\\\\Users\\\\BlueShift\\\\OneDrive\\\\AmazonFACE\\\\AmazonFACE_CR6_T1_meteo_2023_07_22_0000.dat', 'C:\\\\Users\\\\BlueShift\\\\OneDrive\\\\AmazonFACE\\\\AmazonFACE_CR6_T1_meteo_2023_07_23_0001.dat', 'C:\\\\Users\\\\BlueShift\\\\OneDrive\\\\AmazonFACE\\\\AmazonFACE_CR6_T1_meteo_2023_07_24_0000.dat', 'C:\\\\Users\\\\BlueShift\\\\OneDrive\\\\AmazonFACE\\\\AmazonFACE_CR6_T1_meteo_2023_07_25_0000.dat', 'C:\\\\Users\\\\BlueShift\\\\OneDrive\\\\AmazonFACE\\\\AmazonFACE_CR6_T1_meteo_2023_07_26_0000.dat', 'C:\\\\Users\\\\BlueShift\\\\OneDrive\\\\AmazonFACE\\\\AmazonFACE_CR6_T1_meteo_2023_07_27_0000.dat', 'C:\\\\Users\\\\BlueShift\\\\OneDrive\\\\AmazonFACE\\\\AmazonFACE_CR6_T1_meteo_2023_07_28_0000.dat', 'C:\\\\Users\\\\BlueShift\\\\OneDrive\\\\AmazonFACE\\\\AmazonFACE_CR6_T1_meteo_2023_07_29_0000.dat', 'C:\\\\Users\\\\BlueShift\\\\OneDrive\\\\AmazonFACE\\\\AmazonFACE_CR6_T1_meteo_2023_07_30_0000.dat', 'C:\\\\Users\\\\BlueShift\\\\OneDrive\\\\AmazonFACE\\\\AmazonFACE_CR6_T1_meteo_2023_07_31_0000.dat', 'C:\\\\Users\\\\BlueShift\\\\OneDrive\\\\AmazonFACE\\\\AmazonFACE_CR6_T1_meteo_2023_07_31_1018.dat', 'C:\\\\Users\\\\BlueShift\\\\OneDrive\\\\AmazonFACE\\\\AmazonFACE_CR6_T1_meteo_2023_08_01_0001.dat', 'C:\\\\Users\\\\BlueShift\\\\OneDrive\\\\AmazonFACE\\\\AmazonFACE_CR6_T1_meteo_2023_08_02_0000.dat', 'C:\\\\Users\\\\BlueShift\\\\OneDrive\\\\AmazonFACE\\\\AmazonFACE_CR6_T1_meteo_2023_08_03_0000.dat', 'C:\\\\Users\\\\BlueShift\\\\OneDrive\\\\AmazonFACE\\\\AmazonFACE_CR6_T1_meteo_2023_08_04_0000.dat', 'C:\\\\Users\\\\BlueShift\\\\OneDrive\\\\AmazonFACE\\\\AmazonFACE_CR6_T1_meteo_2023_08_05_0011.dat', 'C:\\\\Users\\\\BlueShift\\\\OneDrive\\\\AmazonFACE\\\\AmazonFACE_CR6_T1_meteo_2023_08_06_0000.dat', 'C:\\\\Users\\\\BlueShift\\\\OneDrive\\\\AmazonFACE\\\\AmazonFACE_CR6_T1_meteo_2023_08_07_0000.dat', 'C:\\\\Users\\\\BlueShift\\\\OneDrive\\\\AmazonFACE\\\\AmazonFACE_CR6_T1_meteo_2023_08_08_0000.dat', 'C:\\\\Users\\\\BlueShift\\\\OneDrive\\\\AmazonFACE\\\\AmazonFACE_CR6_T1_meteo_2023_08_09_0041.dat', 'C:\\\\Users\\\\BlueShift\\\\OneDrive\\\\AmazonFACE\\\\AmazonFACE_CR6_T1_meteo_2023_08_10_0000.dat', 'C:\\\\Users\\\\BlueShift\\\\OneDrive\\\\AmazonFACE\\\\AmazonFACE_CR6_T1_meteo_2023_08_11_0000.dat', 'C:\\\\Users\\\\BlueShift\\\\OneDrive\\\\AmazonFACE\\\\AmazonFACE_CR6_T1_meteo_2023_08_12_0000.dat', 'C:\\\\Users\\\\BlueShift\\\\OneDrive\\\\AmazonFACE\\\\AmazonFACE_CR6_T1_meteo_2023_08_13_0000.dat', 'C:\\\\Users\\\\BlueShift\\\\OneDrive\\\\AmazonFACE\\\\AmazonFACE_CR6_T1_meteo_2023_08_14_0001.dat', 'C:\\\\Users\\\\BlueShift\\\\OneDrive\\\\AmazonFACE\\\\AmazonFACE_CR6_T1_meteo_2023_08_15_1455.dat', 'C:\\\\Users\\\\BlueShift\\\\OneDrive\\\\AmazonFACE\\\\AmazonFACE_CR6_T1_meteo_2023_08_16_0000.dat', 'C:\\\\Users\\\\BlueShift\\\\OneDrive\\\\AmazonFACE\\\\AmazonFACE_CR6_T1_meteo_2023_08_18_1332.dat', 'C:\\\\Users\\\\BlueShift\\\\OneDrive\\\\AmazonFACE\\\\AmazonFACE_CR6_T1_meteo_2023_08_19_0000.dat', 'C:\\\\Users\\\\BlueShift\\\\OneDrive\\\\AmazonFACE\\\\AmazonFACE_CR6_T1_meteo_2023_08_20_0021.dat', 'C:\\\\Users\\\\BlueShift\\\\OneDrive\\\\AmazonFACE\\\\AmazonFACE_CR6_T1_meteo_2023_08_21_0000.dat', 'C:\\\\Users\\\\BlueShift\\\\OneDrive\\\\AmazonFACE\\\\AmazonFACE_CR6_T1_meteo_2023_08_22_0924.dat', 'C:\\\\Users\\\\BlueShift\\\\OneDrive\\\\AmazonFACE\\\\AmazonFACE_CR6_T1_meteo_2023_08_23_0000.dat', 'C:\\\\Users\\\\BlueShift\\\\OneDrive\\\\AmazonFACE\\\\AmazonFACE_CR6_T1_meteo_2023_08_24_0000.dat', 'C:\\\\Users\\\\BlueShift\\\\OneDrive\\\\AmazonFACE\\\\AmazonFACE_CR6_T1_meteo_2023_08_25_0000.dat', 'C:\\\\Users\\\\BlueShift\\\\OneDrive\\\\AmazonFACE\\\\AmazonFACE_CR6_T1_meteo_2023_08_26_0000.dat', 'C:\\\\Users\\\\BlueShift\\\\OneDrive\\\\AmazonFACE\\\\AmazonFACE_CR6_T1_meteo_2023_08_27_0001.dat', 'C:\\\\Users\\\\BlueShift\\\\OneDrive\\\\AmazonFACE\\\\AmazonFACE_CR6_T1_meteo_2023_08_28_0000.dat', 'C:\\\\Users\\\\BlueShift\\\\OneDrive\\\\AmazonFACE\\\\AmazonFACE_CR6_T1_meteo_2023_08_29_0000.dat', 'C:\\\\Users\\\\BlueShift\\\\OneDrive\\\\AmazonFACE\\\\AmazonFACE_CR6_T1_meteo_2023_08_30_0000.dat']\n"
     ]
    }
   ],
   "source": [
    "# Obter a lista de arquivos CSV na pasta raiz\n",
    "arquivos_one = glob.glob(f'{pasta_One}\\\\*.dat')\n",
    "arquivos_gdrive = glob.glob(f'{pasta_Gdrive}\\\\*.dat')\n",
    "\n",
    "if not arquivos_one:\n",
    "    print('Erro: A pasta está vazia.')\n",
    "    exit() # Terminar o programa.\n",
    "else:\n",
    "    print(arquivos_one)"
   ]
  },
  {
   "cell_type": "code",
   "execution_count": 20,
   "id": "afa12f7e",
   "metadata": {},
   "outputs": [
    {
     "name": "stdout",
     "output_type": "stream",
     "text": [
      "['AmazonFACE_CR6_T1_meteoMedia30_2023_08_30_0000.dat', 'AmazonFACE_CR6_T1_meteo_2023_08_30_0000.dat']\n",
      "2\n"
     ]
    }
   ],
   "source": [
    "arquivo_apenas_one = []\n",
    "\n",
    "for arquivo in arquivos_one:\n",
    "    nome_arquivo = arquivo.split('\\\\')[-1]\n",
    "    if nome_arquivo not in [x.split('\\\\')[-1] for x in arquivos_gdrive]:\n",
    "        arquivo_apenas_one.append(nome_arquivo)\n",
    "        \n",
    "print(arquivo_apenas_one)\n",
    "quantidade = len(arquivo_apenas_one)\n",
    "print(quantidade)"
   ]
  },
  {
   "cell_type": "code",
   "execution_count": 21,
   "id": "73920100",
   "metadata": {},
   "outputs": [
    {
     "name": "stdout",
     "output_type": "stream",
     "text": [
      "Arquivo AmazonFACE_CR6_T1_meteoMedia30_2023_08_30_0000.dat copiado para Gdrive\n",
      "Arquivo AmazonFACE_CR6_T1_meteo_2023_08_30_0000.dat copiado para Gdrive\n"
     ]
    }
   ],
   "source": [
    "qntd_enviada = []\n",
    "for nome_arquivo in arquivo_apenas_one:\n",
    "    caminho_arquivo_one = f'{pasta_One}\\\\{nome_arquivo}'\n",
    "    caminho_arquivo_gdrive = f'{pasta_Gdrive}\\\\{nome_arquivo}'\n",
    "    shutil.copy(caminho_arquivo_one, caminho_arquivo_gdrive)\n",
    "    print(f'Arquivo {nome_arquivo} copiado para Gdrive')\n",
    "    qntd_enviada.append(+1)"
   ]
  },
  {
   "cell_type": "code",
   "execution_count": 22,
   "id": "2c11260d",
   "metadata": {},
   "outputs": [
    {
     "data": {
      "text/plain": [
       "2"
      ]
     },
     "execution_count": 22,
     "metadata": {},
     "output_type": "execute_result"
    }
   ],
   "source": [
    "len(qntd_enviada)"
   ]
  },
  {
   "cell_type": "code",
   "execution_count": null,
   "id": "c68bdd1d",
   "metadata": {},
   "outputs": [],
   "source": []
  }
 ],
 "metadata": {
  "kernelspec": {
   "display_name": "Python 3 (ipykernel)",
   "language": "python",
   "name": "python3"
  },
  "language_info": {
   "codemirror_mode": {
    "name": "ipython",
    "version": 3
   },
   "file_extension": ".py",
   "mimetype": "text/x-python",
   "name": "python",
   "nbconvert_exporter": "python",
   "pygments_lexer": "ipython3",
   "version": "3.11.4"
  }
 },
 "nbformat": 4,
 "nbformat_minor": 5
}
