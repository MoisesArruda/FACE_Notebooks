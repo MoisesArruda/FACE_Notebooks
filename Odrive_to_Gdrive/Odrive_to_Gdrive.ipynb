{
 "cells": [
  {
   "cell_type": "markdown",
   "id": "4d414a56",
   "metadata": {},
   "source": [
    "### Este notebook possui as seguintes finalidades\n",
    "\n",
    "1 - Consultar os arquivos da pasta no One Drive.\n",
    "2 - Comparar com os arquivos das pastas 1m e 30m do google drive.\n",
    "3 - Retornar quais os arquivos ainda não foram armazenados.\n",
    "4 - Transferir esses arquivos para a pasta Staging \n",
    "\n"
   ]
  },
  {
   "cell_type": "code",
   "execution_count": null,
   "id": "25702fe8",
   "metadata": {},
   "outputs": [],
   "source": [
    "import pandas as pd\n",
    "# Acessar sistema operacional\n",
    "import os\n",
    "# Irá retornar uma lista de arquivos\n",
    "import glob\n",
    "# Manipulação de arquivos e diretórios\n",
    "import shutil"
   ]
  },
  {
   "cell_type": "code",
   "execution_count": 79,
   "id": "2d9f0adb",
   "metadata": {},
   "outputs": [],
   "source": [
    "## Enviar arquivos do One Drive para o GCP"
   ]
  },
  {
   "cell_type": "code",
   "execution_count": 80,
   "id": "6433692f",
   "metadata": {},
   "outputs": [],
   "source": [
    "# Caminho dos drives\n",
    "\n",
    "# Onde os arquivos estão sendo disponibilizados\n",
    "pasta_One = r'C:\\Users\\BlueShift\\OneDrive\\AmazonFACE'\n",
    "# Onde esses arquivos serão armazenados\n",
    "pasta_Staging = r'I:\\Meu Drive\\AmazonFace\\Dados das Torres do Face\\T1\\07 - 2023\\Staging'\n",
    "# Arquivos de 1 minuto\n",
    "pasta_Gdrive_1m = r'I:\\Meu Drive\\AmazonFace\\Dados das Torres do Face\\T1\\07 - 2023\\T1_Meteo_1m_2023\\Ascii'\n",
    "# Arquivos de 30 minutos\n",
    "pasta_Gdrive_30m = r'I:\\Meu Drive\\AmazonFace\\Dados das Torres do Face\\T1\\07 - 2023\\T1_meteo_Media_30m_2023\\Ascii'"
   ]
  },
  {
   "cell_type": "code",
   "execution_count": 81,
   "id": "41cb7069",
   "metadata": {},
   "outputs": [
    {
     "name": "stdout",
     "output_type": "stream",
     "text": [
      "['AmazonFACE_CR6_T1_meteoMedia30_2023_06_05_1500.dat', 'AmazonFACE_CR6_T1_meteoMedia30_2023_06_06_0000.dat', 'AmazonFACE_CR6_T1_meteoMedia30_2023_06_07_0000.dat', 'AmazonFACE_CR6_T1_meteoMedia30_2023_06_08_0000.dat', 'AmazonFACE_CR6_T1_meteoMedia30_2023_06_09_0000.dat', 'AmazonFACE_CR6_T1_meteoMedia30_2023_06_10_0000.dat', 'AmazonFACE_CR6_T1_meteoMedia30_2023_06_11_0000.dat', 'AmazonFACE_CR6_T1_meteoMedia30_2023_06_12_0000.dat', 'AmazonFACE_CR6_T1_meteoMedia30_2023_06_13_0000.dat', 'AmazonFACE_CR6_T1_meteoMedia30_2023_06_13_0800.dat', 'AmazonFACE_CR6_T1_meteoMedia30_2023_06_14_0030.dat', 'AmazonFACE_CR6_T1_meteoMedia30_2023_06_15_0000.dat', 'AmazonFACE_CR6_T1_meteoMedia30_2023_06_16_0000.dat', 'AmazonFACE_CR6_T1_meteoMedia30_2023_06_17_0000.dat', 'AmazonFACE_CR6_T1_meteoMedia30_2023_06_18_0030.dat', 'AmazonFACE_CR6_T1_meteoMedia30_2023_06_19_0000.dat', 'AmazonFACE_CR6_T1_meteoMedia30_2023_06_20_0000.dat', 'AmazonFACE_CR6_T1_meteoMedia30_2023_06_21_0000.dat', 'AmazonFACE_CR6_T1_meteoMedia30_2023_06_22_0000.dat', 'AmazonFACE_CR6_T1_meteoMedia30_2023_06_23_0000.dat', 'AmazonFACE_CR6_T1_meteoMedia30_2023_06_24_0000.dat', 'AmazonFACE_CR6_T1_meteoMedia30_2023_06_25_0000.dat', 'AmazonFACE_CR6_T1_meteoMedia30_2023_06_26_0000.dat', 'AmazonFACE_CR6_T1_meteoMedia30_2023_06_27_0030.dat', 'AmazonFACE_CR6_T1_meteoMedia30_2023_06_28_0000.dat', 'AmazonFACE_CR6_T1_meteoMedia30_2023_06_29_0000.dat', 'AmazonFACE_CR6_T1_meteoMedia30_2023_06_30_0000.dat', 'AmazonFACE_CR6_T1_meteoMedia30_2023_07_01_0000.dat', 'AmazonFACE_CR6_T1_meteoMedia30_2023_07_02_0000.dat', 'AmazonFACE_CR6_T1_meteoMedia30_2023_07_03_0000.dat', 'AmazonFACE_CR6_T1_meteoMedia30_2023_07_04_0000.dat', 'AmazonFACE_CR6_T1_meteoMedia30_2023_07_05_0000.dat', 'AmazonFACE_CR6_T1_meteoMedia30_2023_07_06_0000.dat', 'AmazonFACE_CR6_T1_meteoMedia30_2023_07_07_0000.dat', 'AmazonFACE_CR6_T1_meteoMedia30_2023_07_08_0000.dat', 'AmazonFACE_CR6_T1_meteoMedia30_2023_07_09_0000.dat', 'AmazonFACE_CR6_T1_meteoMedia30_2023_07_10_0030.dat', 'AmazonFACE_CR6_T1_meteoMedia30_2023_07_11_0000.dat', 'AmazonFACE_CR6_T1_meteoMedia30_2023_07_12_0000.dat', 'AmazonFACE_CR6_T1_meteoMedia30_2023_07_20_1100.dat', 'AmazonFACE_CR6_T1_meteoMedia30_2023_07_21_0000.dat', 'AmazonFACE_CR6_T1_meteoMedia30_2023_07_22_0000.dat', 'AmazonFACE_CR6_T1_meteoMedia30_2023_07_23_0030.dat', 'AmazonFACE_CR6_T1_meteoMedia30_2023_07_24_0000.dat', 'AmazonFACE_CR6_T1_meteoMedia30_2023_07_25_0000.dat', 'AmazonFACE_CR6_T1_meteoMedia30_2023_07_26_0000.dat', 'AmazonFACE_CR6_T1_meteoMedia30_2023_07_27_0000.dat', 'AmazonFACE_CR6_T1_meteoMedia30_2023_07_28_0000.dat', 'AmazonFACE_CR6_T1_meteoMedia30_2023_07_29_0000.dat', 'AmazonFACE_CR6_T1_meteoMedia30_2023_07_30_0000.dat', 'AmazonFACE_CR6_T1_meteoMedia30_2023_07_31_0000.dat', 'AmazonFACE_CR6_T1_meteoMedia30_2023_07_31_1030.dat', 'AmazonFACE_CR6_T1_meteoMedia30_2023_08_01_0030.dat', 'AmazonFACE_CR6_T1_meteoMedia30_2023_08_02_0000.dat', 'AmazonFACE_CR6_T1_meteoMedia30_2023_08_03_0000.dat', 'AmazonFACE_CR6_T1_meteoMedia30_2023_08_04_0000.dat', 'AmazonFACE_CR6_T1_meteoMedia30_2023_08_05_0030.dat', 'AmazonFACE_CR6_T1_meteoMedia30_2023_08_06_0000.dat', 'AmazonFACE_CR6_T1_meteoMedia30_2023_08_07_0000.dat', 'AmazonFACE_CR6_T1_meteoMedia30_2023_08_08_0000.dat', 'AmazonFACE_CR6_T1_meteoMedia30_2023_08_09_0100.dat', 'AmazonFACE_CR6_T1_meteoMedia30_2023_08_10_0000.dat', 'AmazonFACE_CR6_T1_meteoMedia30_2023_08_11_0000.dat', 'AmazonFACE_CR6_T1_meteoMedia30_2023_08_12_0000.dat', 'AmazonFACE_CR6_T1_meteoMedia30_2023_08_13_0000.dat', 'AmazonFACE_CR6_T1_meteoMedia30_2023_08_14_0030.dat', 'AmazonFACE_CR6_T1_meteoMedia30_2023_08_15_1500.dat', 'AmazonFACE_CR6_T1_meteoMedia30_2023_08_16_0000.dat', 'AmazonFACE_CR6_T1_meteoMedia30_2023_08_18_1400.dat', 'AmazonFACE_CR6_T1_meteoMedia30_2023_08_19_0000.dat', 'AmazonFACE_CR6_T1_meteoMedia30_2023_08_20_0030.dat', 'AmazonFACE_CR6_T1_meteoMedia30_2023_08_21_0000.dat', 'AmazonFACE_CR6_T1_meteoMedia30_2023_08_22_0900.dat', 'AmazonFACE_CR6_T1_meteoMedia30_2023_08_22_0930.dat', 'AmazonFACE_CR6_T1_meteoMedia30_2023_08_23_0000.dat', 'AmazonFACE_CR6_T1_meteoMedia30_2023_08_24_0000.dat', 'AmazonFACE_CR6_T1_meteoMedia30_2023_08_25_0000.dat', 'AmazonFACE_CR6_T1_meteoMedia30_2023_08_26_0000.dat', 'AmazonFACE_CR6_T1_meteoMedia30_2023_08_27_0030.dat', 'AmazonFACE_CR6_T1_meteoMedia30_2023_08_28_0000.dat', 'AmazonFACE_CR6_T1_meteoMedia30_2023_08_29_0000.dat', 'AmazonFACE_CR6_T1_meteoMedia30_2023_08_30_0000.dat', 'AmazonFACE_CR6_T1_meteoMedia30_2023_08_31_0000.dat', 'AmazonFACE_CR6_T1_meteoMedia30_2023_09_01_0000.dat', 'AmazonFACE_CR6_T1_meteoMedia30_2023_09_02_0000.dat', 'AmazonFACE_CR6_T1_meteoMedia30_2023_09_03_0000.dat', 'AmazonFACE_CR6_T1_meteoMedia30_2023_09_04_0000.dat', 'AmazonFACE_CR6_T1_meteoMedia30_2023_09_05_0000.dat', 'AmazonFACE_CR6_T1_meteoMedia30_2023_09_06_0000.dat', 'AmazonFACE_CR6_T1_meteoMedia30_2023_09_07_0000.dat', 'AmazonFACE_CR6_T1_meteoMedia30_2023_09_08_0030.dat', 'AmazonFACE_CR6_T1_meteoMedia30_2023_09_09_0000.dat', 'AmazonFACE_CR6_T1_meteoMedia30_2023_09_10_0000.dat', 'AmazonFACE_CR6_T1_meteoMedia30_2023_09_11_0000.dat', 'AmazonFACE_CR6_T1_meteoMedia30_2023_09_12_0000.dat', 'AmazonFACE_CR6_T1_meteoMedia30_2023_09_13_0900.dat', 'AmazonFACE_CR6_T1_meteoMedia30_2023_09_14_0000.dat', 'AmazonFACE_CR6_T1_meteoMedia30_2023_09_15_0000.dat', 'AmazonFACE_CR6_T1_meteoMedia30_2023_09_16_0000.dat', 'AmazonFACE_CR6_T1_meteoMedia30_2023_09_20_1430.dat', 'AmazonFACE_CR6_T1_meteoMedia30_2023_09_21_0030.dat', 'AmazonFACE_CR6_T1_meteoMedia30_2023_09_22_0000.dat', 'AmazonFACE_CR6_T1_meteoMedia30_2023_09_23_0030.dat', 'AmazonFACE_CR6_T1_meteoMedia30_2023_09_24_0000.dat', 'AmazonFACE_CR6_T1_meteoMedia30_2023_09_25_0000.dat', 'AmazonFACE_CR6_T1_meteoMedia30_2023_09_26_0000.dat', 'AmazonFACE_CR6_T1_meteoMedia30_2023_09_27_0100.dat', 'AmazonFACE_CR6_T1_meteoMedia30_2023_09_27_0430.dat', 'AmazonFACE_CR6_T1_meteoMedia30_2023_09_28_0130.dat', 'AmazonFACE_CR6_T1_meteoMedia30_2023_09_29_0000.dat', 'AmazonFACE_CR6_T1_meteoMedia30_2023_10_02_0800.dat', 'AmazonFACE_CR6_T1_meteoMedia30_2023_10_03_1830.dat', 'AmazonFACE_CR6_T1_meteoMedia30_2023_10_04_0000.dat', 'AmazonFACE_CR6_T1_meteoMedia30_2023_10_05_0000.dat', 'AmazonFACE_CR6_T1_meteo_2023_06_05_1439.dat', 'AmazonFACE_CR6_T1_meteo_2023_06_05_1454.dat', 'AmazonFACE_CR6_T1_meteo_2023_06_05_1455.dat', 'AmazonFACE_CR6_T1_meteo_2023_06_06_0000.dat', 'AmazonFACE_CR6_T1_meteo_2023_06_07_0000.dat', 'AmazonFACE_CR6_T1_meteo_2023_06_08_0000.dat', 'AmazonFACE_CR6_T1_meteo_2023_06_09_0000.dat', 'AmazonFACE_CR6_T1_meteo_2023_06_10_0000.dat', 'AmazonFACE_CR6_T1_meteo_2023_06_11_0000.dat', 'AmazonFACE_CR6_T1_meteo_2023_06_12_0000.dat', 'AmazonFACE_CR6_T1_meteo_2023_06_13_0000.dat', 'AmazonFACE_CR6_T1_meteo_2023_06_13_0744.dat', 'AmazonFACE_CR6_T1_meteo_2023_06_14_0001.dat', 'AmazonFACE_CR6_T1_meteo_2023_06_15_0000.dat', 'AmazonFACE_CR6_T1_meteo_2023_06_16_0000.dat', 'AmazonFACE_CR6_T1_meteo_2023_06_17_0000.dat', 'AmazonFACE_CR6_T1_meteo_2023_06_18_0021.dat', 'AmazonFACE_CR6_T1_meteo_2023_06_19_0000.dat', 'AmazonFACE_CR6_T1_meteo_2023_06_20_0000.dat', 'AmazonFACE_CR6_T1_meteo_2023_06_21_0000.dat', 'AmazonFACE_CR6_T1_meteo_2023_06_22_0000.dat', 'AmazonFACE_CR6_T1_meteo_2023_06_23_0000.dat', 'AmazonFACE_CR6_T1_meteo_2023_06_24_0000.dat', 'AmazonFACE_CR6_T1_meteo_2023_06_25_0000.dat', 'AmazonFACE_CR6_T1_meteo_2023_06_26_0000.dat', 'AmazonFACE_CR6_T1_meteo_2023_06_27_0001.dat', 'AmazonFACE_CR6_T1_meteo_2023_06_28_0000.dat', 'AmazonFACE_CR6_T1_meteo_2023_06_29_0000.dat', 'AmazonFACE_CR6_T1_meteo_2023_06_30_0000.dat', 'AmazonFACE_CR6_T1_meteo_2023_07_01_0000.dat', 'AmazonFACE_CR6_T1_meteo_2023_07_02_0000.dat', 'AmazonFACE_CR6_T1_meteo_2023_07_03_0000.dat', 'AmazonFACE_CR6_T1_meteo_2023_07_04_0000.dat', 'AmazonFACE_CR6_T1_meteo_2023_07_05_0000.dat', 'AmazonFACE_CR6_T1_meteo_2023_07_06_0000.dat', 'AmazonFACE_CR6_T1_meteo_2023_07_07_0000.dat', 'AmazonFACE_CR6_T1_meteo_2023_07_08_0000.dat', 'AmazonFACE_CR6_T1_meteo_2023_07_09_0000.dat', 'AmazonFACE_CR6_T1_meteo_2023_07_10_0001.dat', 'AmazonFACE_CR6_T1_meteo_2023_07_11_0000.dat', 'AmazonFACE_CR6_T1_meteo_2023_07_12_0000.dat', 'AmazonFACE_CR6_T1_meteo_2023_07_20_1044.dat', 'AmazonFACE_CR6_T1_meteo_2023_07_21_0000.dat', 'AmazonFACE_CR6_T1_meteo_2023_07_22_0000.dat', 'AmazonFACE_CR6_T1_meteo_2023_07_23_0001.dat', 'AmazonFACE_CR6_T1_meteo_2023_07_24_0000.dat', 'AmazonFACE_CR6_T1_meteo_2023_07_25_0000.dat', 'AmazonFACE_CR6_T1_meteo_2023_07_26_0000.dat', 'AmazonFACE_CR6_T1_meteo_2023_07_27_0000.dat', 'AmazonFACE_CR6_T1_meteo_2023_07_28_0000.dat', 'AmazonFACE_CR6_T1_meteo_2023_07_29_0000.dat', 'AmazonFACE_CR6_T1_meteo_2023_07_30_0000.dat', 'AmazonFACE_CR6_T1_meteo_2023_07_31_0000.dat', 'AmazonFACE_CR6_T1_meteo_2023_07_31_1018.dat', 'AmazonFACE_CR6_T1_meteo_2023_08_01_0001.dat', 'AmazonFACE_CR6_T1_meteo_2023_08_02_0000.dat', 'AmazonFACE_CR6_T1_meteo_2023_08_03_0000.dat', 'AmazonFACE_CR6_T1_meteo_2023_08_04_0000.dat', 'AmazonFACE_CR6_T1_meteo_2023_08_05_0011.dat', 'AmazonFACE_CR6_T1_meteo_2023_08_06_0000.dat', 'AmazonFACE_CR6_T1_meteo_2023_08_07_0000.dat', 'AmazonFACE_CR6_T1_meteo_2023_08_08_0000.dat', 'AmazonFACE_CR6_T1_meteo_2023_08_09_0041.dat', 'AmazonFACE_CR6_T1_meteo_2023_08_10_0000.dat', 'AmazonFACE_CR6_T1_meteo_2023_08_11_0000.dat', 'AmazonFACE_CR6_T1_meteo_2023_08_12_0000.dat', 'AmazonFACE_CR6_T1_meteo_2023_08_13_0000.dat', 'AmazonFACE_CR6_T1_meteo_2023_08_14_0001.dat', 'AmazonFACE_CR6_T1_meteo_2023_08_15_1455.dat', 'AmazonFACE_CR6_T1_meteo_2023_08_16_0000.dat', 'AmazonFACE_CR6_T1_meteo_2023_08_18_1332.dat', 'AmazonFACE_CR6_T1_meteo_2023_08_19_0000.dat', 'AmazonFACE_CR6_T1_meteo_2023_08_20_0021.dat', 'AmazonFACE_CR6_T1_meteo_2023_08_21_0000.dat', 'AmazonFACE_CR6_T1_meteo_2023_08_22_0924.dat', 'AmazonFACE_CR6_T1_meteo_2023_08_23_0000.dat', 'AmazonFACE_CR6_T1_meteo_2023_08_24_0000.dat', 'AmazonFACE_CR6_T1_meteo_2023_08_25_0000.dat', 'AmazonFACE_CR6_T1_meteo_2023_08_26_0000.dat', 'AmazonFACE_CR6_T1_meteo_2023_08_27_0001.dat', 'AmazonFACE_CR6_T1_meteo_2023_08_28_0000.dat', 'AmazonFACE_CR6_T1_meteo_2023_08_29_0000.dat', 'AmazonFACE_CR6_T1_meteo_2023_08_30_0000.dat', 'AmazonFACE_CR6_T1_meteo_2023_08_31_0000.dat', 'AmazonFACE_CR6_T1_meteo_2023_09_01_0000.dat', 'AmazonFACE_CR6_T1_meteo_2023_09_02_0000.dat', 'AmazonFACE_CR6_T1_meteo_2023_09_03_0000.dat', 'AmazonFACE_CR6_T1_meteo_2023_09_04_0000.dat', 'AmazonFACE_CR6_T1_meteo_2023_09_05_0000.dat', 'AmazonFACE_CR6_T1_meteo_2023_09_06_0000.dat', 'AmazonFACE_CR6_T1_meteo_2023_09_07_0000.dat', 'AmazonFACE_CR6_T1_meteo_2023_09_08_0001.dat', 'AmazonFACE_CR6_T1_meteo_2023_09_09_0000.dat', 'AmazonFACE_CR6_T1_meteo_2023_09_10_0000.dat', 'AmazonFACE_CR6_T1_meteo_2023_09_11_0000.dat', 'AmazonFACE_CR6_T1_meteo_2023_09_12_0000.dat', 'AmazonFACE_CR6_T1_meteo_2023_09_13_0855.dat', 'AmazonFACE_CR6_T1_meteo_2023_09_14_0000.dat', 'AmazonFACE_CR6_T1_meteo_2023_09_15_0000.dat', 'AmazonFACE_CR6_T1_meteo_2023_09_16_0000.dat', 'AmazonFACE_CR6_T1_meteo_2023_09_20_1430.dat', 'AmazonFACE_CR6_T1_meteo_2023_09_21_0001.dat', 'AmazonFACE_CR6_T1_meteo_2023_09_22_0000.dat', 'AmazonFACE_CR6_T1_meteo_2023_09_23_0001.dat', 'AmazonFACE_CR6_T1_meteo_2023_09_24_0000.dat', 'AmazonFACE_CR6_T1_meteo_2023_09_25_0000.dat', 'AmazonFACE_CR6_T1_meteo_2023_09_26_0000.dat', 'AmazonFACE_CR6_T1_meteo_2023_09_27_0031.dat', 'AmazonFACE_CR6_T1_meteo_2023_09_27_0038.dat', 'AmazonFACE_CR6_T1_meteo_2023_09_27_0148.dat', 'AmazonFACE_CR6_T1_meteo_2023_09_28_0111.dat', 'AmazonFACE_CR6_T1_meteo_2023_09_29_0000.dat', 'AmazonFACE_CR6_T1_meteo_2023_10_02_0747.dat', 'AmazonFACE_CR6_T1_meteo_2023_10_03_1801.dat', 'AmazonFACE_CR6_T1_meteo_2023_10_04_0000.dat', 'AmazonFACE_CR6_T1_meteo_2023_10_05_0000.dat']\n"
     ]
    }
   ],
   "source": [
    "# Obter a lista de arquivos .dat na pasta raiz\n",
    "arquivos_one = glob.glob(f'{pasta_One}\\\\*.dat')\n",
    "# Obter a lista de arquivos .dat na pasta 1 minuto\n",
    "arquivos1m_gdrive = glob.glob(f'{pasta_Gdrive_1m}\\\\*.dat')\n",
    "# Obter a lista de arquivos .dat na pasta 30 minutos\n",
    "arquivos30m_gdrive = glob.glob(f'{pasta_Gdrive_30m}\\\\*.dat')\n",
    "\n",
    "# Se não houve nenhum arquivo\n",
    "if not arquivos_one:\n",
    "    print('Erro: A pasta está vazia.')\n",
    "    exit() # Terminar o programa.\n",
    "# Se houver, imprimir todos eles\n",
    "else:\n",
    "    # Para cada arquivo na pasta, me retornar apenas o nome sem o caminho completo\n",
    "    nomes_arquivos = [os.path.basename(arquivo) for arquivo in arquivos_one]\n",
    "    print(nomes_arquivos)"
   ]
  },
  {
   "cell_type": "code",
   "execution_count": 82,
   "id": "f154e5ab",
   "metadata": {},
   "outputs": [
    {
     "name": "stdout",
     "output_type": "stream",
     "text": [
      "114 116\n"
     ]
    }
   ],
   "source": [
    "# Variável para armazenar parte do nome do arquivo\n",
    "meteo_30m = \"meteoMedia30\"\n",
    "# Variável para armazenar parte do nome do arquivo\n",
    "meteo_1m = \"CR6_T1_meteo_\"\n",
    "# Lista para armazenar a quantidade de arquivos 30m no One Drive\n",
    "quantidade_30m = []\n",
    "# Lista para armazenar a quantidade de arquivos 1m no One Drive\n",
    "quantidade_1m = []\n",
    "\n",
    "# Loop para iterar em cada arquivo na pasta\n",
    "for arquivo in arquivos_one:\n",
    "    # Retornando apenas o nome do arquivo sem o caminho da pasta\n",
    "    nome_arquivo = os.path.basename(arquivo)\n",
    "    # Se o nome do arquivo tiver a condição\n",
    "    if meteo_30m in nome_arquivo:\n",
    "        #print(arquivo)\n",
    "        # Vai armazenar o nome desse arquivo na lista 30m\n",
    "        quantidade_30m.append(nome_arquivo)\n",
    "    # Se o nome do arquivo tiver essa condição    \n",
    "    elif meteo_1m in nome_arquivo:\n",
    "        #print(arquivo)\n",
    "        # Vai armazenar o nome desse arquivo na lista 1m\n",
    "        quantidade_1m.append(nome_arquivo)\n",
    "    # Se não a pasta está vazia\n",
    "    else:\n",
    "        print('Nenhum arquivo na pasta')\n",
    "    \n",
    "# Retorna a quantidade de arquivos em cada lista\n",
    "print(len(quantidade_30m), len(quantidade_1m))\n",
    "\n",
    "# print(quantidade_30m)"
   ]
  },
  {
   "cell_type": "code",
   "execution_count": 83,
   "id": "8e619fc8",
   "metadata": {},
   "outputs": [
    {
     "name": "stdout",
     "output_type": "stream",
     "text": [
      "30m: 32, 1m: 33\n"
     ]
    }
   ],
   "source": [
    "# Lista para armazenar os arquivos 30m que estão apenas na pasta One Drive\n",
    "arquivo30m_apenas_one = []\n",
    "# Lista para armazenar os arquivos 1m que estão apenas na pasta One Drive\n",
    "arquivo1m_apenas_one=[]\n",
    "\n",
    "# Loop que vai iterar sobre os arquivos 30m\n",
    "for arquivo in quantidade_30m:\n",
    "    # Apenas o nome do arquivo, que não está na pasta 30m do drive\n",
    "    if os.path.basename(arquivo) not in [os.path.basename(x) for x in arquivos30m_gdrive]:\n",
    "        # Adicionar o nome do arquivo na lista\n",
    "        arquivo30m_apenas_one.append(arquivo)\n",
    "\n",
    "# Loop que vai iterar sobre os arquivos 1m\n",
    "for arquivo in quantidade_1m:\n",
    "    # Apenas o nome do arquivo, que não está na pasta 1m do drive\n",
    "    if os.path.basename(arquivo) not in [os.path.basename(x) for x in arquivos1m_gdrive]:\n",
    "        # Adicionar o nome do arquivo na lista\n",
    "        arquivo1m_apenas_one.append(arquivo)\n",
    "        \n",
    "# Retornar a quantidade de arquivo de cada lista        \n",
    "print(f'30m: {len(arquivo30m_apenas_one)}, 1m: {len(arquivo1m_apenas_one)}')\n",
    "#print(arquivo30m_apenas_one)"
   ]
  },
  {
   "cell_type": "code",
   "execution_count": 84,
   "id": "73920100",
   "metadata": {},
   "outputs": [
    {
     "name": "stdout",
     "output_type": "stream",
     "text": [
      "Arquivo AmazonFACE_CR6_T1_meteoMedia30_2023_08_31_0000.dat copiado para Gdrive\n",
      "Arquivo AmazonFACE_CR6_T1_meteoMedia30_2023_09_01_0000.dat copiado para Gdrive\n",
      "Arquivo AmazonFACE_CR6_T1_meteoMedia30_2023_09_02_0000.dat copiado para Gdrive\n",
      "Arquivo AmazonFACE_CR6_T1_meteoMedia30_2023_09_03_0000.dat copiado para Gdrive\n",
      "Arquivo AmazonFACE_CR6_T1_meteoMedia30_2023_09_04_0000.dat copiado para Gdrive\n",
      "Arquivo AmazonFACE_CR6_T1_meteoMedia30_2023_09_05_0000.dat copiado para Gdrive\n",
      "Arquivo AmazonFACE_CR6_T1_meteoMedia30_2023_09_06_0000.dat copiado para Gdrive\n",
      "Arquivo AmazonFACE_CR6_T1_meteoMedia30_2023_09_07_0000.dat copiado para Gdrive\n",
      "Arquivo AmazonFACE_CR6_T1_meteoMedia30_2023_09_08_0030.dat copiado para Gdrive\n",
      "Arquivo AmazonFACE_CR6_T1_meteoMedia30_2023_09_09_0000.dat copiado para Gdrive\n",
      "Arquivo AmazonFACE_CR6_T1_meteoMedia30_2023_09_10_0000.dat copiado para Gdrive\n",
      "Arquivo AmazonFACE_CR6_T1_meteoMedia30_2023_09_11_0000.dat copiado para Gdrive\n",
      "Arquivo AmazonFACE_CR6_T1_meteoMedia30_2023_09_12_0000.dat copiado para Gdrive\n",
      "Arquivo AmazonFACE_CR6_T1_meteoMedia30_2023_09_13_0900.dat copiado para Gdrive\n",
      "Arquivo AmazonFACE_CR6_T1_meteoMedia30_2023_09_14_0000.dat copiado para Gdrive\n",
      "Arquivo AmazonFACE_CR6_T1_meteoMedia30_2023_09_15_0000.dat copiado para Gdrive\n",
      "Arquivo AmazonFACE_CR6_T1_meteoMedia30_2023_09_16_0000.dat copiado para Gdrive\n",
      "Arquivo AmazonFACE_CR6_T1_meteoMedia30_2023_09_20_1430.dat copiado para Gdrive\n",
      "Arquivo AmazonFACE_CR6_T1_meteoMedia30_2023_09_21_0030.dat copiado para Gdrive\n",
      "Arquivo AmazonFACE_CR6_T1_meteoMedia30_2023_09_22_0000.dat copiado para Gdrive\n",
      "Arquivo AmazonFACE_CR6_T1_meteoMedia30_2023_09_23_0030.dat copiado para Gdrive\n",
      "Arquivo AmazonFACE_CR6_T1_meteoMedia30_2023_09_24_0000.dat copiado para Gdrive\n",
      "Arquivo AmazonFACE_CR6_T1_meteoMedia30_2023_09_25_0000.dat copiado para Gdrive\n",
      "Arquivo AmazonFACE_CR6_T1_meteoMedia30_2023_09_26_0000.dat copiado para Gdrive\n",
      "Arquivo AmazonFACE_CR6_T1_meteoMedia30_2023_09_27_0100.dat copiado para Gdrive\n",
      "Arquivo AmazonFACE_CR6_T1_meteoMedia30_2023_09_27_0430.dat copiado para Gdrive\n",
      "Arquivo AmazonFACE_CR6_T1_meteoMedia30_2023_09_28_0130.dat copiado para Gdrive\n",
      "Arquivo AmazonFACE_CR6_T1_meteoMedia30_2023_09_29_0000.dat copiado para Gdrive\n",
      "Arquivo AmazonFACE_CR6_T1_meteoMedia30_2023_10_02_0800.dat copiado para Gdrive\n",
      "Arquivo AmazonFACE_CR6_T1_meteoMedia30_2023_10_03_1830.dat copiado para Gdrive\n",
      "Arquivo AmazonFACE_CR6_T1_meteoMedia30_2023_10_04_0000.dat copiado para Gdrive\n",
      "Arquivo AmazonFACE_CR6_T1_meteoMedia30_2023_10_05_0000.dat copiado para Gdrive\n",
      "Arquivo AmazonFACE_CR6_T1_meteo_2023_08_31_0000.dat copiado para Gdrive\n",
      "Arquivo AmazonFACE_CR6_T1_meteo_2023_09_01_0000.dat copiado para Gdrive\n",
      "Arquivo AmazonFACE_CR6_T1_meteo_2023_09_02_0000.dat copiado para Gdrive\n",
      "Arquivo AmazonFACE_CR6_T1_meteo_2023_09_03_0000.dat copiado para Gdrive\n",
      "Arquivo AmazonFACE_CR6_T1_meteo_2023_09_04_0000.dat copiado para Gdrive\n",
      "Arquivo AmazonFACE_CR6_T1_meteo_2023_09_05_0000.dat copiado para Gdrive\n",
      "Arquivo AmazonFACE_CR6_T1_meteo_2023_09_06_0000.dat copiado para Gdrive\n",
      "Arquivo AmazonFACE_CR6_T1_meteo_2023_09_07_0000.dat copiado para Gdrive\n",
      "Arquivo AmazonFACE_CR6_T1_meteo_2023_09_08_0001.dat copiado para Gdrive\n",
      "Arquivo AmazonFACE_CR6_T1_meteo_2023_09_09_0000.dat copiado para Gdrive\n",
      "Arquivo AmazonFACE_CR6_T1_meteo_2023_09_10_0000.dat copiado para Gdrive\n",
      "Arquivo AmazonFACE_CR6_T1_meteo_2023_09_11_0000.dat copiado para Gdrive\n",
      "Arquivo AmazonFACE_CR6_T1_meteo_2023_09_12_0000.dat copiado para Gdrive\n",
      "Arquivo AmazonFACE_CR6_T1_meteo_2023_09_13_0855.dat copiado para Gdrive\n",
      "Arquivo AmazonFACE_CR6_T1_meteo_2023_09_14_0000.dat copiado para Gdrive\n",
      "Arquivo AmazonFACE_CR6_T1_meteo_2023_09_15_0000.dat copiado para Gdrive\n",
      "Arquivo AmazonFACE_CR6_T1_meteo_2023_09_16_0000.dat copiado para Gdrive\n",
      "Arquivo AmazonFACE_CR6_T1_meteo_2023_09_20_1430.dat copiado para Gdrive\n",
      "Arquivo AmazonFACE_CR6_T1_meteo_2023_09_21_0001.dat copiado para Gdrive\n",
      "Arquivo AmazonFACE_CR6_T1_meteo_2023_09_22_0000.dat copiado para Gdrive\n",
      "Arquivo AmazonFACE_CR6_T1_meteo_2023_09_23_0001.dat copiado para Gdrive\n",
      "Arquivo AmazonFACE_CR6_T1_meteo_2023_09_24_0000.dat copiado para Gdrive\n",
      "Arquivo AmazonFACE_CR6_T1_meteo_2023_09_25_0000.dat copiado para Gdrive\n",
      "Arquivo AmazonFACE_CR6_T1_meteo_2023_09_26_0000.dat copiado para Gdrive\n",
      "Arquivo AmazonFACE_CR6_T1_meteo_2023_09_27_0031.dat copiado para Gdrive\n",
      "Arquivo AmazonFACE_CR6_T1_meteo_2023_09_27_0038.dat copiado para Gdrive\n",
      "Arquivo AmazonFACE_CR6_T1_meteo_2023_09_27_0148.dat copiado para Gdrive\n",
      "Arquivo AmazonFACE_CR6_T1_meteo_2023_09_28_0111.dat copiado para Gdrive\n",
      "Arquivo AmazonFACE_CR6_T1_meteo_2023_09_29_0000.dat copiado para Gdrive\n",
      "Arquivo AmazonFACE_CR6_T1_meteo_2023_10_02_0747.dat copiado para Gdrive\n",
      "Arquivo AmazonFACE_CR6_T1_meteo_2023_10_03_1801.dat copiado para Gdrive\n",
      "Arquivo AmazonFACE_CR6_T1_meteo_2023_10_04_0000.dat copiado para Gdrive\n",
      "Arquivo AmazonFACE_CR6_T1_meteo_2023_10_05_0000.dat copiado para Gdrive\n"
     ]
    }
   ],
   "source": [
    "# Lista que armazena a quantidade de itens enviados\n",
    "qntd_enviada = []\n",
    "\n",
    "# Loop para iterar os arquivos 30m que estão apenas no One\n",
    "for nome_arquivo in arquivo30m_apenas_one:\n",
    "    # Buscar o caminho desse arquivo no One Drive\n",
    "    caminho_arquivo_one = f'{pasta_One}\\\\{nome_arquivo}'\n",
    "    # Buscar a pasta Staging no GDrive\n",
    "    caminho_arquivo_gdrive = f'{pasta_Staging}\\\\{nome_arquivo}'\n",
    "    # Copiar o arquivo de uma pasta para outra\n",
    "    shutil.copy(caminho_arquivo_one, caminho_arquivo_gdrive)\n",
    "    # Para cada arquivo 1 mensagem\n",
    "    print(f'Arquivo {nome_arquivo} copiado para Gdrive')\n",
    "    # Adicionar +1 para a lista\n",
    "    qntd_enviada.append(+1)\n",
    "\n",
    "# Loop para iterar os arquivos 30m que estão apenas no One\n",
    "for nome_arquivo in arquivo1m_apenas_one:\n",
    "    # Buscar o caminho desse arquivo no One Drive\n",
    "    caminho_arquivo_one = f'{pasta_One}\\\\{nome_arquivo}'\n",
    "    # Buscar a pasta Staging no GDrive\n",
    "    caminho_arquivo_gdrive = f'{pasta_Staging}\\\\{nome_arquivo}'\n",
    "    # Copiar o arquivo de uma pasta para outra\n",
    "    shutil.copy(caminho_arquivo_one, caminho_arquivo_gdrive)\n",
    "    # Para cada arquivo 1 mensagem\n",
    "    print(f'Arquivo {nome_arquivo} copiado para Gdrive')\n",
    "    # Adicionar +1 para a lista\n",
    "    qntd_enviada.append(+1)"
   ]
  },
  {
   "cell_type": "code",
   "execution_count": 85,
   "id": "2c11260d",
   "metadata": {},
   "outputs": [
    {
     "data": {
      "text/plain": [
       "65"
      ]
     },
     "execution_count": 85,
     "metadata": {},
     "output_type": "execute_result"
    }
   ],
   "source": [
    "# Ler a quantidade de arquivos enviados\n",
    "len(qntd_enviada)"
   ]
  },
  {
   "cell_type": "code",
   "execution_count": null,
   "id": "c68bdd1d",
   "metadata": {},
   "outputs": [],
   "source": []
  }
 ],
 "metadata": {
  "kernelspec": {
   "display_name": "Python 3 (ipykernel)",
   "language": "python",
   "name": "python3"
  },
  "language_info": {
   "codemirror_mode": {
    "name": "ipython",
    "version": 3
   },
   "file_extension": ".py",
   "mimetype": "text/x-python",
   "name": "python",
   "nbconvert_exporter": "python",
   "pygments_lexer": "ipython3",
   "version": "3.11.4"
  }
 },
 "nbformat": 4,
 "nbformat_minor": 5
}
